{
 "cells": [
  {
   "cell_type": "markdown",
   "id": "008b648a-6eff-4c1e-9ab1-3bd46592a6fb",
   "metadata": {},
   "source": [
    "# MRI Raw Data Loading"
   ]
  },
  {
   "cell_type": "markdown",
   "id": "350d3625-2831-4017-9c72-98e06e6b6546",
   "metadata": {},
   "source": [
    "## Load a sample .nii.gz file with nibabel and display its shape and voxel info."
   ]
  },
  {
   "cell_type": "markdown",
   "id": "c8745127-d3d0-4206-be5c-c23c056c74ea",
   "metadata": {},
   "source": [
    "_Make sure to set the MRI_DATA_PATH environment variable as described in the README._"
   ]
  },
  {
   "cell_type": "code",
   "execution_count": 4,
   "id": "6a793dae-16ae-4d5e-bd5d-b449251d2d51",
   "metadata": {},
   "outputs": [
    {
     "name": "stdout",
     "output_type": "stream",
     "text": [
      "(256, 256, 128, 1)\n",
      "Voxel size (mm): (np.float32(1.0), np.float32(1.0), np.float32(1.25), np.float32(0.0))\n"
     ]
    }
   ],
   "source": [
    "import os\n",
    "import nibabel as nib\n",
    "\n",
    "base_path = os.getenv('OASIS_DATA_PATH')\n",
    "if not base_path:\n",
    "    raise EnvironmentError('Please set the OASIS_DATA_PATH environment variable')\n",
    "\n",
    "nii_file = os.path.join(base_path, 'oasis_cross-sectional_disc1', 'disc1', 'OAS1_0001_MR1', 'RAW', 'OAS1_0001_MR1_mpr-1_anon.hdr')\n",
    "img = nib.load(nii_file)\n",
    "print(img.shape)\n",
    "print(f\"Voxel size (mm): {img.header.get_zooms()}\")"
   ]
  }
 ],
 "metadata": {
  "kernelspec": {
   "display_name": "Python 3 (ipykernel)",
   "language": "python",
   "name": "python3"
  },
  "language_info": {
   "codemirror_mode": {
    "name": "ipython",
    "version": 3
   },
   "file_extension": ".py",
   "mimetype": "text/x-python",
   "name": "python",
   "nbconvert_exporter": "python",
   "pygments_lexer": "ipython3",
   "version": "3.10.18"
  }
 },
 "nbformat": 4,
 "nbformat_minor": 5
}
