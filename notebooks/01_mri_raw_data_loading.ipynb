{
 "cells": [
  {
   "cell_type": "markdown",
   "id": "008b648a-6eff-4c1e-9ab1-3bd46592a6fb",
   "metadata": {},
   "source": [
    "# MRI Raw Data Loading"
   ]
  },
  {
   "cell_type": "markdown",
   "id": "350d3625-2831-4017-9c72-98e06e6b6546",
   "metadata": {},
   "source": [
    "## Load a sample .hdr file with nibabel and display its shape and voxel info."
   ]
  },
  {
   "cell_type": "markdown",
   "id": "c8745127-d3d0-4206-be5c-c23c056c74ea",
   "metadata": {},
   "source": [
    "_Make sure to set the MRI_DATA_PATH environment variable as described in the README._"
   ]
  },
  {
   "cell_type": "markdown",
   "id": "d28abec5",
   "metadata": {},
   "source": []
  },
  {
   "cell_type": "code",
   "execution_count": 5,
   "id": "6a793dae-16ae-4d5e-bd5d-b449251d2d51",
   "metadata": {},
   "outputs": [
    {
     "ename": "OSError",
     "evalue": "Please set the OASIS_DATA_PATH environment variable",
     "output_type": "error",
     "traceback": [
      "\u001b[1;31m---------------------------------------------------------------------------\u001b[0m",
      "\u001b[1;31mOSError\u001b[0m                                   Traceback (most recent call last)",
      "Cell \u001b[1;32mIn[5], line 6\u001b[0m\n\u001b[0;32m      4\u001b[0m base_path \u001b[38;5;241m=\u001b[39m os\u001b[38;5;241m.\u001b[39mgetenv(\u001b[38;5;124m'\u001b[39m\u001b[38;5;124mOASIS_DATA_PATH\u001b[39m\u001b[38;5;124m'\u001b[39m)\n\u001b[0;32m      5\u001b[0m \u001b[38;5;28;01mif\u001b[39;00m \u001b[38;5;129;01mnot\u001b[39;00m base_path:\n\u001b[1;32m----> 6\u001b[0m     \u001b[38;5;28;01mraise\u001b[39;00m \u001b[38;5;167;01mEnvironmentError\u001b[39;00m(\u001b[38;5;124m'\u001b[39m\u001b[38;5;124mPlease set the OASIS_DATA_PATH environment variable\u001b[39m\u001b[38;5;124m'\u001b[39m)\n\u001b[0;32m      8\u001b[0m hdr_file \u001b[38;5;241m=\u001b[39m os\u001b[38;5;241m.\u001b[39mpath\u001b[38;5;241m.\u001b[39mjoin(base_path, \u001b[38;5;124m'\u001b[39m\u001b[38;5;124moasis_cross-sectional_disc1\u001b[39m\u001b[38;5;124m'\u001b[39m, \u001b[38;5;124m'\u001b[39m\u001b[38;5;124mdisc1\u001b[39m\u001b[38;5;124m'\u001b[39m, \u001b[38;5;124m'\u001b[39m\u001b[38;5;124mOAS1_0001_MR1\u001b[39m\u001b[38;5;124m'\u001b[39m, \u001b[38;5;124m'\u001b[39m\u001b[38;5;124mRAW\u001b[39m\u001b[38;5;124m'\u001b[39m, \u001b[38;5;124m'\u001b[39m\u001b[38;5;124mOAS1_0001_MR1_mpr-1_anon.hdr\u001b[39m\u001b[38;5;124m'\u001b[39m)\n\u001b[0;32m      9\u001b[0m img \u001b[38;5;241m=\u001b[39m nib\u001b[38;5;241m.\u001b[39mload(hdr_file)\n",
      "\u001b[1;31mOSError\u001b[0m: Please set the OASIS_DATA_PATH environment variable"
     ]
    }
   ],
   "source": [
    "import os\n",
    "import nibabel as nib\n",
    "\n",
    "base_path = os.getenv('OASIS_DATA_PATH')\n",
    "if not base_path:\n",
    "    raise EnvironmentError('Please set the OASIS_DATA_PATH environment variable')\n",
    "\n",
    "hdr_file = os.path.join(base_path, 'oasis_cross-sectional_disc1', 'disc1', 'OAS1_0001_MR1', 'RAW', 'OAS1_0001_MR1_mpr-1_anon.hdr')\n",
    "img = nib.load(hdr_file)\n",
    "print(img.shape)\n",
    "print(f\"Voxel size (mm): {img.header.get_zooms()}\")"
   ]
  },
  {
   "cell_type": "code",
   "execution_count": null,
   "id": "4db6bcf0-9c94-4caa-be5e-c4f389c530c7",
   "metadata": {},
   "outputs": [],
   "source": []
  }
 ],
 "metadata": {
  "kernelspec": {
   "display_name": "Python 3 (ipykernel)",
   "language": "python",
   "name": "python3"
  },
  "language_info": {
   "codemirror_mode": {
    "name": "ipython",
    "version": 3
   },
   "file_extension": ".py",
   "mimetype": "text/x-python",
   "name": "python",
   "nbconvert_exporter": "python",
   "pygments_lexer": "ipython3",
   "version": "3.10.18"
  }
 },
 "nbformat": 4,
 "nbformat_minor": 5
}
