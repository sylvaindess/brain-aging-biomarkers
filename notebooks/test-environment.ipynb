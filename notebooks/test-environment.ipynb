{
 "cells": [
  {
   "cell_type": "code",
   "execution_count": 1,
   "id": "8e67712c-a0bf-4630-b303-bd31809e8f6d",
   "metadata": {},
   "outputs": [
    {
     "name": "stdout",
     "output_type": "stream",
     "text": [
      "numpy version: 2.0.1\n",
      "pandas version: 2.3.1\n",
      "matplotlib version: 3.10.5\n",
      "seaborn version: 0.13.2\n",
      "scikit-learn version: 1.7.1\n",
      "nibabel version: 5.3.2\n",
      "nilearn version: 0.12.0\n",
      "jupyter notebook version: 7.4.4\n"
     ]
    }
   ],
   "source": [
    "import numpy as np\n",
    "import pandas as pd\n",
    "import matplotlib.pyplot as plt\n",
    "import seaborn as sns\n",
    "import sklearn\n",
    "import nibabel as nib\n",
    "import nilearn\n",
    "import notebook\n",
    "\n",
    "print(\"numpy version:\", np.__version__)\n",
    "print(\"pandas version:\", pd.__version__)\n",
    "print(\"matplotlib version:\", plt.matplotlib.__version__)\n",
    "print(\"seaborn version:\", sns.__version__)\n",
    "print(\"scikit-learn version:\", sklearn.__version__)\n",
    "print(\"nibabel version:\", nib.__version__)\n",
    "print(\"nilearn version:\", nilearn.__version__)\n",
    "print(\"jupyter notebook version:\", notebook.__version__)\n"
   ]
  },
  {
   "cell_type": "code",
   "execution_count": null,
   "id": "d5282d57-ecad-40a2-8ce6-b80c1d5cffd5",
   "metadata": {},
   "outputs": [],
   "source": []
  }
 ],
 "metadata": {
  "kernelspec": {
   "display_name": "Python 3 (ipykernel)",
   "language": "python",
   "name": "python3"
  },
  "language_info": {
   "codemirror_mode": {
    "name": "ipython",
    "version": 3
   },
   "file_extension": ".py",
   "mimetype": "text/x-python",
   "name": "python",
   "nbconvert_exporter": "python",
   "pygments_lexer": "ipython3",
   "version": "3.10.18"
  }
 },
 "nbformat": 4,
 "nbformat_minor": 5
}
